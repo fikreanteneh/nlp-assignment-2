{
 "cells": [
  {
   "cell_type": "markdown",
   "metadata": {},
   "source": [
    "## Installing Required Libraries\n",
    "\n",
    "We are installing essential libraries for our project:\n",
    "\n",
    "- **datasets**: For loading and preprocessing datasets.\n",
    "- **evaluate**: For evaluating machine learning models.\n",
    "- **accelerate**: For speeding up training and inference.\n",
    "- **transformers[torch]**: For using pre-trained NLP models with PyTorch.\n",
    "\n",
    "### Installation Command"
   ]
  },
  {
   "cell_type": "code",
   "execution_count": 1,
   "metadata": {},
   "outputs": [],
   "source": [
    "! pip install --quiet datasets evaluate accelerate transformers[torch]"
   ]
  },
  {
   "cell_type": "markdown",
   "metadata": {},
   "source": [
    "## Loading the Amharic News Text Classification Dataset and Preprocessing the data."
   ]
  },
  {
   "cell_type": "code",
   "execution_count": 3,
   "metadata": {},
   "outputs": [
    {
     "name": "stderr",
     "output_type": "stream",
     "text": [
      "c:\\Users\\fikre\\AppData\\Local\\Programs\\Python\\Python311\\Lib\\site-packages\\tqdm\\auto.py:21: TqdmWarning: IProgress not found. Please update jupyter and ipywidgets. See https://ipywidgets.readthedocs.io/en/stable/user_install.html\n",
      "  from .autonotebook import tqdm as notebook_tqdm\n"
     ]
    },
    {
     "data": {
      "text/plain": [
       "DatasetDict({\n",
       "    train: Dataset({\n",
       "        features: ['headline', 'category', 'date', 'views', 'article', 'link'],\n",
       "        num_rows: 51483\n",
       "    })\n",
       "})"
      ]
     },
     "execution_count": 3,
     "metadata": {},
     "output_type": "execute_result"
    }
   ],
   "source": [
    "from datasets import load_dataset\n",
    "all_dataset = load_dataset('csv', data_files='data/Amharic News Dataset.csv')\n",
    "all_dataset"
   ]
  },
  {
   "cell_type": "code",
   "execution_count": 7,
   "metadata": {},
   "outputs": [
    {
     "name": "stdout",
     "output_type": "stream",
     "text": [
      "DatasetDict({\n",
      "    train: Dataset({\n",
      "        features: ['headline', 'category', 'date', 'views', 'article', 'link'],\n",
      "        num_rows: 41185\n",
      "    })\n",
      "    test: Dataset({\n",
      "        features: ['headline', 'category', 'date', 'views', 'article', 'link'],\n",
      "        num_rows: 10297\n",
      "    })\n",
      "})\n",
      "Categories - ['ሀገር አቀፍ ዜና', 'መዝናኛ', 'ስፖርት', 'ቢዝነስ', 'አለም አቀፍ ዜና', 'ፖለቲካ']\n"
     ]
    }
   ],
   "source": [
    "import re\n",
    "# method to normalize character level missmatch such as ጸሀይ and ፀሐይ\n",
    "def normalize_char_level_missmatch(input_token):\n",
    "    rep1 = re.sub('[ሃኅኃሐሓኻ]', 'ሀ', input_token)\n",
    "    rep2 = re.sub('[ሑኁዅ]', 'ሁ', rep1)\n",
    "    rep3 = re.sub('[ኂሒኺ]', 'ሂ', rep2)\n",
    "    rep4 = re.sub('[ኌሔዄ]', 'ሄ', rep3)\n",
    "    rep5 = re.sub('[ሕኅ]', 'ህ', rep4)\n",
    "    rep6 = re.sub('[ኆሖኾ]', 'ሆ', rep5)\n",
    "    rep7 = re.sub('[ሠ]', 'ሰ', rep6)\n",
    "    rep8 = re.sub('[ሡ]', 'ሱ', rep7)\n",
    "    rep9 = re.sub('[ሢ]', 'ሲ', rep8)\n",
    "    rep10 = re.sub('[ሣ]', 'ሳ', rep9)\n",
    "    rep11 = re.sub('[ሤ]', 'ሴ', rep10)\n",
    "    rep12 = re.sub('[ሥ]', 'ስ', rep11)\n",
    "    rep13 = re.sub('[ሦ]', 'ሶ', rep12)\n",
    "    rep14 = re.sub('[ዓኣዐ]', 'አ', rep13)\n",
    "    rep15 = re.sub('[ዑ]', 'ኡ', rep14)\n",
    "    rep16 = re.sub('[ዒ]', 'ኢ', rep15)\n",
    "    rep17 = re.sub('[ዔ]', 'ኤ', rep16)\n",
    "    rep18 = re.sub('[ዕ]', 'እ', rep17)\n",
    "    rep19 = re.sub('[ዖ]', 'ኦ', rep18)\n",
    "    rep20 = re.sub('[ጸ]', 'ፀ', rep19)\n",
    "    rep21 = re.sub('[ጹ]', 'ፁ', rep20)\n",
    "    rep22 = re.sub('[ጺ]', 'ፂ', rep21)\n",
    "    rep23 = re.sub('[ጻ]', 'ፃ', rep22)\n",
    "    rep24 = re.sub('[ጼ]', 'ፄ', rep23)\n",
    "    rep25 = re.sub('[ጽ]', 'ፅ', rep24)\n",
    "    rep26 = re.sub('[ጾ]', 'ፆ', rep25)\n",
    "    # Normalizing words with Labialized Amharic characters such as በልቱዋል or  በልቱአል to  በልቷል\n",
    "    rep27 = re.sub('(ሉ[ዋአ])', 'ሏ', rep26)\n",
    "    rep28 = re.sub('(ሙ[ዋአ])', 'ሟ', rep27)\n",
    "    rep29 = re.sub('(ቱ[ዋአ])', 'ቷ', rep28)\n",
    "    rep30 = re.sub('(ሩ[ዋአ])', 'ሯ', rep29)\n",
    "    rep31 = re.sub('(ሱ[ዋአ])', 'ሷ', rep30)\n",
    "    rep32 = re.sub('(ሹ[ዋአ])', 'ሿ', rep31)\n",
    "    rep33 = re.sub('(ቁ[ዋአ])', 'ቋ', rep32)\n",
    "    rep34 = re.sub('(ቡ[ዋአ])', 'ቧ', rep33)\n",
    "    rep35 = re.sub('(ቹ[ዋአ])', 'ቿ', rep34)\n",
    "    rep36 = re.sub('(ሁ[ዋአ])', 'ኋ', rep35)\n",
    "    rep37 = re.sub('(ኑ[ዋአ])', 'ኗ', rep36)\n",
    "    rep38 = re.sub('(ኙ[ዋአ])', 'ኟ', rep37)\n",
    "    rep39 = re.sub('(ኩ[ዋአ])', 'ኳ', rep38)\n",
    "    rep40 = re.sub('(ዙ[ዋአ])', 'ዟ', rep39)\n",
    "    rep41 = re.sub('(ጉ[ዋአ])', 'ጓ', rep40)\n",
    "    rep42 = re.sub('(ደ[ዋአ])', 'ዷ', rep41)\n",
    "    rep43 = re.sub('(ጡ[ዋአ])', 'ጧ', rep42)\n",
    "    rep44 = re.sub('(ጩ[ዋአ])', 'ጯ', rep43)\n",
    "    rep45 = re.sub('(ጹ[ዋአ])', 'ጿ', rep44)\n",
    "    rep46 = re.sub('(ፉ[ዋአ])', 'ፏ', rep45)\n",
    "    rep47 = re.sub('[ቊ]', 'ቁ', rep46)  # ቁ can be written as ቊ\n",
    "    rep48 = re.sub('[ኵ]', 'ኩ', rep47)  # ኩ can be also written as ኵ\n",
    "    return rep48\n",
    "\n",
    "# Splitting the dataset into train and test\n",
    "dataset = all_dataset['train'].train_test_split(test_size=0.2, seed=42) \n",
    "# Filtering the dataset to remove the rows that have None in the category column\n",
    "dataset = dataset.filter(lambda x: x['category'] is not None)\n",
    "# Normalizing the category column\n",
    "dataset = dataset.map(lambda x: {'category': normalize_char_level_missmatch(x['category'])})\n",
    "print(dataset)\n",
    "\n",
    "# Getting the unique categories that will be used as labels for the model.\n",
    "categories = list(sorted(set(dataset['train']['category'])))\n",
    "print(\"Categories -\" ,categories)"
   ]
  },
  {
   "cell_type": "code",
   "execution_count": 8,
   "metadata": {},
   "outputs": [
    {
     "name": "stderr",
     "output_type": "stream",
     "text": [
      "Map: 100%|██████████| 41185/41185 [00:15<00:00, 2586.39 examples/s]\n",
      "Map: 100%|██████████| 10297/10297 [00:04<00:00, 2177.69 examples/s]\n",
      "Map: 100%|██████████| 41185/41185 [00:00<00:00, 95792.33 examples/s] \n",
      "Map: 100%|██████████| 10297/10297 [00:00<00:00, 76375.51 examples/s]"
     ]
    },
    {
     "name": "stdout",
     "output_type": "stream",
     "text": [
      "DatasetDict({\n",
      "    train: Dataset({\n",
      "        features: ['headline', 'category', 'date', 'views', 'article', 'link'],\n",
      "        num_rows: 41185\n",
      "    })\n",
      "    test: Dataset({\n",
      "        features: ['headline', 'category', 'date', 'views', 'article', 'link'],\n",
      "        num_rows: 10297\n",
      "    })\n",
      "})\n",
      "DatasetDict({\n",
      "    train: Dataset({\n",
      "        features: ['headline', 'category', 'date', 'views', 'article', 'link', 'input_ids', 'attention_mask', 'labels'],\n",
      "        num_rows: 41185\n",
      "    })\n",
      "    test: Dataset({\n",
      "        features: ['headline', 'category', 'date', 'views', 'article', 'link', 'input_ids', 'attention_mask', 'labels'],\n",
      "        num_rows: 10297\n",
      "    })\n",
      "})\n"
     ]
    },
    {
     "name": "stderr",
     "output_type": "stream",
     "text": [
      "\n"
     ]
    }
   ],
   "source": [
    "from transformers import AutoTokenizer, DataCollatorWithPadding\n",
    "\n",
    "model_checkpoint = \"FacebookAI/xlm-roberta-base\"\n",
    "tokenizer = AutoTokenizer.from_pretrained(model_checkpoint)\n",
    "\n",
    "\n",
    "\n",
    "# Tokenize the dataset\n",
    "def tokenize_function(item):\n",
    "    return tokenizer(item['article'], truncation=True, max_length=512)\n",
    "tokenized_dataset = dataset.map(tokenize_function, batched=True)\n",
    "\n",
    "# Add numerical labels to the tokenized dataset\n",
    "def add_labels(example):\n",
    "    example['labels'] = [categories.index(item) for item in example['category']]\n",
    "    return example\n",
    "tokenized_dataset = tokenized_dataset.map(add_labels, batched= True)\n",
    "\n",
    "print(dataset)\n",
    "print(tokenized_dataset) # Tokenizer added two fields: input_ids and attention_mask\n",
    "\n",
    "\n",
    "# Use a data collator to apply dynamic padding\n",
    "\n",
    "data_collator = DataCollatorWithPadding(\n",
    "    tokenizer=tokenizer, return_tensors='pt')"
   ]
  },
  {
   "cell_type": "code",
   "execution_count": null,
   "metadata": {},
   "outputs": [],
   "source": [
    "for y in tokenized_dataset['train']:\n",
    "    original_article = y['article']\n",
    "    tokenized_input_ids = y['input_ids']\n",
    "    \n",
    "    decoded_article = tokenizer.decode(\n",
    "        tokenized_input_ids, skip_special_tokens=True)\n",
    "\n",
    "    print(\"Original Article:\")\n",
    "    print(original_article)\n",
    "    print(\"Tokenized Input IDs:\")\n",
    "    print(tokenized_input_ids)\n",
    "    print(\"Decoded Article\")\n",
    "    print(decoded_article)\n",
    "    print(\"Length of Orginal Article: \", len(original_article))\n",
    "    print(\"Length of Decoded Article: \", len(decoded_article))\n",
    "    print(\"Length of Input Ids: \", len(tokenized_input_ids))\n",
    "    break"
   ]
  },
  {
   "cell_type": "code",
   "execution_count": 9,
   "metadata": {},
   "outputs": [
    {
     "name": "stderr",
     "output_type": "stream",
     "text": [
      "Some weights of XLMRobertaForSequenceClassification were not initialized from the model checkpoint at FacebookAI/xlm-roberta-base and are newly initialized: ['classifier.dense.bias', 'classifier.dense.weight', 'classifier.out_proj.bias', 'classifier.out_proj.weight']\n",
      "You should probably TRAIN this model on a down-stream task to be able to use it for predictions and inference.\n"
     ]
    },
    {
     "name": "stdout",
     "output_type": "stream",
     "text": [
      "Model loaded on: cuda\n"
     ]
    },
    {
     "name": "stderr",
     "output_type": "stream",
     "text": [
      "c:\\Users\\fikre\\AppData\\Local\\Programs\\Python\\Python311\\Lib\\site-packages\\transformers\\training_args.py:1568: FutureWarning: `evaluation_strategy` is deprecated and will be removed in version 4.46 of 🤗 Transformers. Use `eval_strategy` instead\n",
      "  warnings.warn(\n"
     ]
    }
   ],
   "source": [
    "# Load the model\n",
    "\n",
    "import torch\n",
    "from transformers import AutoModelForSequenceClassification, TrainingArguments\n",
    "\n",
    "# We are using the XLM ROberat. We are configuring it for text classification task\n",
    "\n",
    "fine_tuned_model = AutoModelForSequenceClassification.from_pretrained(\n",
    "    model_checkpoint,\n",
    "    num_labels=len(categories),\n",
    "    id2label={i: lbl for i, lbl in enumerate(categories)},\n",
    "    label2id={lbl: i for i, lbl in enumerate(categories)},\n",
    "    device_map=\"cuda\"\n",
    ")\n",
    "\n",
    "# Move the model to GPU if available\n",
    "device = torch.device(\"cuda\" if torch.cuda.is_available() else \"cpu\")\n",
    "fine_tuned_model.to(device)\n",
    "\n",
    "# Print the device to confirm\n",
    "print(f\"Model loaded on: {device}\")\n",
    "\n",
    "# Seting up the fine tunning parameter\n",
    "batch_size = 16\n",
    "gradient_accumulation_steps = 4\n",
    "epochs = 5\n",
    "\n",
    "training_args = TrainingArguments(\n",
    "    output_dir=model_checkpoint+\"-finetuned\",\n",
    "    learning_rate=5e-5,\n",
    "    per_device_train_batch_size=batch_size,\n",
    "    per_device_eval_batch_size=batch_size,\n",
    "    gradient_accumulation_steps=gradient_accumulation_steps,\n",
    "    num_train_epochs=epochs,\n",
    "    weight_decay=0.1,\n",
    "    evaluation_strategy=\"epoch\",\n",
    "    save_strategy=\"epoch\",\n",
    "    logging_strategy=\"epoch\",\n",
    "    load_best_model_at_end=True,\n",
    "    metric_for_best_model=\"f1\",\n",
    "    fp16=True,\n",
    "    seed=42,\n",
    ")"
   ]
  },
  {
   "cell_type": "code",
   "execution_count": 10,
   "metadata": {},
   "outputs": [],
   "source": [
    "import evaluate\n",
    "import numpy as np\n",
    "\n",
    "# Defining our compute metrics\n",
    "\n",
    "def measure_performance(eval_preds):\n",
    "  metric1 = evaluate.load(\"accuracy\")\n",
    "  metric2 = evaluate.load(\"precision\")\n",
    "  metric3 = evaluate.load(\"recall\")\n",
    "  metric4 = evaluate.load(\"f1\")\n",
    "\n",
    "  logits, labels = eval_preds\n",
    "  predictions = np.argmax(logits, axis=-1)\n",
    "\n",
    "  accuracy = metric1.compute(\n",
    "      predictions=predictions, references=labels)[\"accuracy\"]\n",
    "  precision = metric2.compute(\n",
    "      predictions=predictions, references=labels, average='macro')[\"precision\"]\n",
    "  recall = metric3.compute(predictions=predictions,\n",
    "                           references=labels, average='macro')[\"recall\"]\n",
    "  f1 = metric4.compute(predictions=predictions,\n",
    "                       references=labels, average='macro')[\"f1\"]\n",
    "\n",
    "  return {\n",
    "      \"accuracy\": accuracy,\n",
    "      \"precision\": precision,\n",
    "      \"recall\": recall,\n",
    "      \"f1\": f1\n",
    "  }"
   ]
  },
  {
   "cell_type": "code",
   "execution_count": 11,
   "metadata": {},
   "outputs": [
    {
     "name": "stderr",
     "output_type": "stream",
     "text": [
      "C:\\Users\\fikre\\AppData\\Local\\Temp\\ipykernel_16508\\306540567.py:3: FutureWarning: `tokenizer` is deprecated and will be removed in version 5.0.0 for `Trainer.__init__`. Use `processing_class` instead.\n",
      "  trainer = Trainer(\n",
      "c:\\Users\\fikre\\AppData\\Local\\Programs\\Python\\Python311\\Lib\\site-packages\\transformers\\trainer.py:3354: FutureWarning: You are using `torch.load` with `weights_only=False` (the current default value), which uses the default pickle module implicitly. It is possible to construct malicious pickle data which will execute arbitrary code during unpickling (See https://github.com/pytorch/pytorch/blob/main/SECURITY.md#untrusted-models for more details). In a future release, the default value for `weights_only` will be flipped to `True`. This limits the functions that could be executed during unpickling. Arbitrary objects will no longer be allowed to be loaded via this mode unless they are explicitly allowlisted by the user via `torch.serialization.add_safe_globals`. We recommend you start setting `weights_only=True` for any use case where you don't have full control of the loaded file. Please open an issue on GitHub for any issues related to this experimental feature.\n",
      "  torch.load(os.path.join(checkpoint, OPTIMIZER_NAME), map_location=map_location)\n",
      "  0%|          | 0/3215 [00:01<?, ?it/s]"
     ]
    },
    {
     "name": "stdout",
     "output_type": "stream",
     "text": [
      "{'train_runtime': 1.3014, 'train_samples_per_second': 158238.926, 'train_steps_per_second': 2470.502, 'train_loss': 0.0, 'epoch': 5.0}\n"
     ]
    },
    {
     "name": "stderr",
     "output_type": "stream",
     "text": [
      "\n"
     ]
    },
    {
     "data": {
      "text/plain": [
       "TrainOutput(global_step=3215, training_loss=0.0, metrics={'train_runtime': 1.3014, 'train_samples_per_second': 158238.926, 'train_steps_per_second': 2470.502, 'total_flos': 5.415114548373984e+16, 'train_loss': 0.0, 'epoch': 4.9984466019417475})"
      ]
     },
     "execution_count": 11,
     "metadata": {},
     "output_type": "execute_result"
    }
   ],
   "source": [
    "from transformers import Trainer\n",
    "\n",
    "trainer = Trainer(\n",
    "    model=fine_tuned_model,\n",
    "    args=training_args,\n",
    "    train_dataset=tokenized_dataset[\"train\"],\n",
    "    eval_dataset=tokenized_dataset[\"test\"],\n",
    "    tokenizer=tokenizer,\n",
    "    data_collator=data_collator,\n",
    "    compute_metrics=measure_performance,\n",
    ")\n",
    "trainer.train(resume_from_checkpoint=True)"
   ]
  },
  {
   "cell_type": "code",
   "execution_count": 12,
   "metadata": {},
   "outputs": [
    {
     "data": {
      "text/plain": [
       "XLMRobertaForSequenceClassification(\n",
       "  (roberta): XLMRobertaModel(\n",
       "    (embeddings): XLMRobertaEmbeddings(\n",
       "      (word_embeddings): Embedding(250002, 768, padding_idx=1)\n",
       "      (position_embeddings): Embedding(514, 768, padding_idx=1)\n",
       "      (token_type_embeddings): Embedding(1, 768)\n",
       "      (LayerNorm): LayerNorm((768,), eps=1e-05, elementwise_affine=True)\n",
       "      (dropout): Dropout(p=0.1, inplace=False)\n",
       "    )\n",
       "    (encoder): XLMRobertaEncoder(\n",
       "      (layer): ModuleList(\n",
       "        (0-11): 12 x XLMRobertaLayer(\n",
       "          (attention): XLMRobertaAttention(\n",
       "            (self): XLMRobertaSdpaSelfAttention(\n",
       "              (query): Linear(in_features=768, out_features=768, bias=True)\n",
       "              (key): Linear(in_features=768, out_features=768, bias=True)\n",
       "              (value): Linear(in_features=768, out_features=768, bias=True)\n",
       "              (dropout): Dropout(p=0.1, inplace=False)\n",
       "            )\n",
       "            (output): XLMRobertaSelfOutput(\n",
       "              (dense): Linear(in_features=768, out_features=768, bias=True)\n",
       "              (LayerNorm): LayerNorm((768,), eps=1e-05, elementwise_affine=True)\n",
       "              (dropout): Dropout(p=0.1, inplace=False)\n",
       "            )\n",
       "          )\n",
       "          (intermediate): XLMRobertaIntermediate(\n",
       "            (dense): Linear(in_features=768, out_features=3072, bias=True)\n",
       "            (intermediate_act_fn): GELUActivation()\n",
       "          )\n",
       "          (output): XLMRobertaOutput(\n",
       "            (dense): Linear(in_features=3072, out_features=768, bias=True)\n",
       "            (LayerNorm): LayerNorm((768,), eps=1e-05, elementwise_affine=True)\n",
       "            (dropout): Dropout(p=0.1, inplace=False)\n",
       "          )\n",
       "        )\n",
       "      )\n",
       "    )\n",
       "  )\n",
       "  (classifier): XLMRobertaClassificationHead(\n",
       "    (dense): Linear(in_features=768, out_features=768, bias=True)\n",
       "    (dropout): Dropout(p=0.1, inplace=False)\n",
       "    (out_proj): Linear(in_features=768, out_features=6, bias=True)\n",
       "  )\n",
       ")"
      ]
     },
     "execution_count": 12,
     "metadata": {},
     "output_type": "execute_result"
    }
   ],
   "source": [
    "from transformers import AutoModelForSequenceClassification, AutoTokenizer\n",
    "import torch\n",
    "\n",
    "fine_tuned_checkpoint = \"FacebookAI/xlm-roberta-base-finetuned/checkpoint-3215\"\n",
    "tokenizer = AutoTokenizer.from_pretrained(fine_tuned_checkpoint)\n",
    "fine_tuned_model = AutoModelForSequenceClassification.from_pretrained(\n",
    "    fine_tuned_checkpoint)\n",
    "\n",
    "device = torch.device(\"cuda\" if torch.cuda.is_available() else \"cpu\")\n",
    "fine_tuned_model.to(device)"
   ]
  },
  {
   "cell_type": "code",
   "execution_count": 13,
   "metadata": {},
   "outputs": [
    {
     "name": "stdout",
     "output_type": "stream",
     "text": [
      "Evaluation Results:\n",
      "Average Precision: 0.866959995741114\n",
      "Average Recall: 0.8557428605739928\n",
      "Average F1: 0.8601660349030417\n",
      "\n",
      "Precision, Recall, and F1 for each category:\n",
      "Category: ሀገር አቀፍ ዜና\n",
      "Precision: 0.9113142292490118\n",
      "Recall: 0.8848644758934996\n",
      "F1: 0.8978946087379822\n",
      "\n",
      "Category: መዝናኛ\n",
      "Precision: 0.8681318681318682\n",
      "Recall: 0.7314814814814815\n",
      "F1: 0.7939698492462312\n",
      "\n",
      "Category: ስፖርት\n",
      "Precision: 0.9731800766283525\n",
      "Recall: 0.9931573802541545\n",
      "F1: 0.9830672472181906\n",
      "\n",
      "Category: ቢዝነስ\n",
      "Precision: 0.7129186602870813\n",
      "Recall: 0.7631241997439181\n",
      "F1: 0.7371675943104514\n",
      "\n",
      "Category: አለም አቀፍ ዜና\n",
      "Precision: 0.8984198645598194\n",
      "Recall: 0.9191685912240185\n",
      "F1: 0.908675799086758\n",
      "\n",
      "Category: ፖለቲካ\n",
      "Precision: 0.8377952755905512\n",
      "Recall: 0.8426610348468849\n",
      "F1: 0.8402211108186365\n",
      "\n",
      "Average Precision: 0.866959995741114\n",
      "Average Recall: 0.8557428605739928\n",
      "Average F1: 0.8601660349030417\n"
     ]
    }
   ],
   "source": [
    "from sklearn.metrics import precision_recall_fscore_support\n",
    "\n",
    "# Get the true labels and predictions\n",
    "true_labels = []\n",
    "predictions = []\n",
    "\n",
    "for batch in tokenized_dataset[\"test\"]:\n",
    "    inputs = {key: torch.tensor([value]).to(device) for key, value in batch.items() if key in tokenizer.model_input_names}\n",
    "    with torch.no_grad():\n",
    "        outputs = fine_tuned_model(**inputs)\n",
    "    logits = outputs.logits\n",
    "    predicted_label = torch.argmax(logits, dim=-1).item()\n",
    "    true_labels.append(batch['labels'])\n",
    "    predictions.append(predicted_label)\n",
    "\n",
    "# Calculate precision, recall, and f1 for each category\n",
    "precision, recall, f1, _ = precision_recall_fscore_support(true_labels, predictions, average=None, labels=range(len(categories)))\n",
    "\n",
    "# Calculate the average precision, recall, and f1\n",
    "average_precision = precision.mean()\n",
    "average_recall = recall.mean()\n",
    "average_f1 = f1.mean()\n",
    "\n",
    "# Print the evaluation results\n",
    "print(\"Evaluation Results:\")\n",
    "print(f\"Average Precision: {average_precision}\")\n",
    "print(f\"Average Recall: {average_recall}\")\n",
    "print(f\"Average F1: {average_f1}\")\n",
    "\n",
    "print(\"\\nPrecision, Recall, and F1 for each category:\")\n",
    "for i, category in enumerate(categories):\n",
    "    print(f\"Category: {category}\")\n",
    "    print(f\"Precision: {precision[i]}\")\n",
    "    print(f\"Recall: {recall[i]}\")\n",
    "    print(f\"F1: {f1[i]}\")\n",
    "    print()\n",
    "\n",
    "print(\"Average Precision:\", average_precision)\n",
    "print(\"Average Recall:\", average_recall)\n",
    "print(\"Average F1:\", average_f1)"
   ]
  },
  {
   "cell_type": "code",
   "execution_count": 14,
   "metadata": {},
   "outputs": [
    {
     "name": "stdout",
     "output_type": "stream",
     "text": [
      "Predicted Label: ስፖርት\n"
     ]
    }
   ],
   "source": [
    "# Sample Prediction\n",
    "\n",
    "input_paragraph = \"\"\"\n",
    "የማንቸስተር ዩናይትዱ አሰልጣኝ ሩበን አሞሪም ቡድናቸው በክለቡ 147 ዓመታት ታሪክ \"በጣም ደካማው\" ሳይሆን እንደማይቀር ገለጸ።\n",
    "\n",
    "ቡድኑ በብራይተን 3 ለ 1 የተሸነፈበት ጨዋታ በሜዳው ካደረጋቸው ያለፉት አምስት የፕሪሚር ሊግ መርሐ ግብሮች በአራቱ የተሸነፈበት ሆኗል።\n",
    "\n",
    "አሞሪም ኤሪክ ቴን ሃግን ተከቶ ቡድኑን ከተረከበ በኋላ ፖርቹጋላዊው ካለፉት 11 ጨዋታዎች 11 ነጥብ ብቻ ሰብስቧል።\n",
    "\n",
    "ዩናይትድ ከመውረድ ቀጠና በ10 ነጥብ ርቆ 13ኛ ደረጃ ላይ ተቀምጧል።\n",
    "\n",
    "\"ካለፉት 10 የሊጉ ጨዋታዎች ሁለቱን ነው ያሸነፍነው። ይህ ለደጋፊዎቹም ሆነ ለእኔ ምን ማለት እንደሆነ አስቡት\" ብሏል።\n",
    "\n",
    "\"አዲሱ አሰልጣኝ ካለፈው አሰልጣኝ በበለጠ እየተሸነፈ ነው። ይህንን አውቃለሁ።\"\n",
    "\n",
    "\"በማንቸስተር ዩናይትድ ታሪክ ደካማው ቡድን ሳንሆን አንቀርም። እናንተ [መገናኛ ብዙሃን] ርዕስ እንደምትፈልጉ ባውቅም እውነቱን ተናግሬ መቀየር ይኖርብኛል። ይኸው ርዕስ ሰጠዋችሁ\" ሲል ተናግሯል።\n",
    "\n",
    "በብራይተን ጎል ካስተናገደ በኋላ ዩናይትድ አቻ ለመሆን በቅቶ ነበር።\n",
    "\n",
    "የብሩኖ ፈርናንዴስ ፍጹም ቅጣት ምት ቡድኑን ያነቃቃዋል ቢባልም ይበልጥ ተበልጦ ታይቷል።\n",
    "\n",
    "ካኦሩ ሚቶማ ቡድኑን ቀዳሚ ሲያደርግ ግብ ጠባቂው አንድሬ ኦናና የፈጸመውን ስህተት ተጠቅሞ ጂዮርጂኖ ረተር ለቡድኑ ሦስተኛዋን ጎል ከመረብ አሳርፏል።\n",
    "\"\"\"\n",
    "# Tokenize the input paragraph\n",
    "inputs = tokenizer(input_paragraph, padding=True,\n",
    "                   truncation=True, return_tensors=\"pt\", max_length=512)\n",
    "\n",
    "inputs = {key: value.to(device) for key, value in inputs.items()}\n",
    "\n",
    "# Make predictions\n",
    "fine_tuned_model.eval()\n",
    "with torch.no_grad():\n",
    "    outputs = fine_tuned_model(**inputs)\n",
    "\n",
    "logits = outputs.logits\n",
    "predictions = torch.argmax(logits, dim=-1)\n",
    "\n",
    "# Map predictions to labels\n",
    "id2label = fine_tuned_model.config.id2label\n",
    "predicted_label = id2label[predictions.item()]\n",
    "\n",
    "# Print the prediction\n",
    "print(f\"Predicted Label: {predicted_label}\")"
   ]
  }
 ],
 "metadata": {
  "kernelspec": {
   "display_name": "Python 3",
   "language": "python",
   "name": "python3"
  },
  "language_info": {
   "codemirror_mode": {
    "name": "ipython",
    "version": 3
   },
   "file_extension": ".py",
   "mimetype": "text/x-python",
   "name": "python",
   "nbconvert_exporter": "python",
   "pygments_lexer": "ipython3",
   "version": "3.11.4"
  }
 },
 "nbformat": 4,
 "nbformat_minor": 2
}
