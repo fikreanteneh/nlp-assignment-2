{
 "cells": [
  {
   "cell_type": "markdown",
   "metadata": {},
   "source": [
    "## Installing Required Libraries\n",
    "\n",
    "We are installing essential libraries for our project:\n",
    "\n",
    "- **datasets**: For loading and preprocessing datasets.\n",
    "- **evaluate**: For evaluating machine learning models.\n",
    "- **accelerate**: For speeding up training and inference.\n",
    "- **transformers[torch]**: For using pre-trained NLP models with PyTorch.\n",
    "\n",
    "### Installation Command"
   ]
  },
  {
   "cell_type": "code",
   "execution_count": 1,
   "metadata": {},
   "outputs": [],
   "source": [
    "! pip install --quiet datasets evaluate accelerate transformers[torch]"
   ]
  },
  {
   "cell_type": "markdown",
   "metadata": {},
   "source": [
    "## Loading the Amharic News Text Classification Dataset and Preprocessing the data."
   ]
  },
  {
   "cell_type": "code",
   "execution_count": 1,
   "metadata": {},
   "outputs": [
    {
     "name": "stderr",
     "output_type": "stream",
     "text": [
      "c:\\Users\\fikre\\AppData\\Local\\Programs\\Python\\Python311\\Lib\\site-packages\\tqdm\\auto.py:21: TqdmWarning: IProgress not found. Please update jupyter and ipywidgets. See https://ipywidgets.readthedocs.io/en/stable/user_install.html\n",
      "  from .autonotebook import tqdm as notebook_tqdm\n"
     ]
    },
    {
     "data": {
      "text/plain": [
       "DatasetDict({\n",
       "    train: Dataset({\n",
       "        features: ['headline', 'category', 'date', 'views', 'article', 'link'],\n",
       "        num_rows: 51483\n",
       "    })\n",
       "})"
      ]
     },
     "execution_count": 1,
     "metadata": {},
     "output_type": "execute_result"
    }
   ],
   "source": [
    "from datasets import load_dataset\n",
    "all_dataset = load_dataset('csv', data_files='data/Amharic News Dataset.csv')\n",
    "all_dataset"
   ]
  },
  {
   "cell_type": "code",
   "execution_count": 2,
   "metadata": {},
   "outputs": [
    {
     "name": "stderr",
     "output_type": "stream",
     "text": [
      "Map: 100%|██████████| 41185/41185 [00:07<00:00, 5692.72 examples/s]\n",
      "Map: 100%|██████████| 10297/10297 [00:01<00:00, 6513.54 examples/s]\n"
     ]
    },
    {
     "data": {
      "text/plain": [
       "DatasetDict({\n",
       "    train: Dataset({\n",
       "        features: ['headline', 'category', 'date', 'views', 'article', 'link'],\n",
       "        num_rows: 41185\n",
       "    })\n",
       "    test: Dataset({\n",
       "        features: ['headline', 'category', 'date', 'views', 'article', 'link'],\n",
       "        num_rows: 10297\n",
       "    })\n",
       "})"
      ]
     },
     "execution_count": 2,
     "metadata": {},
     "output_type": "execute_result"
    }
   ],
   "source": [
    "import re\n",
    "# method to normalize character level missmatch such as ጸሀይ and ፀሐይ\n",
    "def normalize_char_level_missmatch(input_token):\n",
    "    rep1 = re.sub('[ሃኅኃሐሓኻ]', 'ሀ', input_token)\n",
    "    rep2 = re.sub('[ሑኁዅ]', 'ሁ', rep1)\n",
    "    rep3 = re.sub('[ኂሒኺ]', 'ሂ', rep2)\n",
    "    rep4 = re.sub('[ኌሔዄ]', 'ሄ', rep3)\n",
    "    rep5 = re.sub('[ሕኅ]', 'ህ', rep4)\n",
    "    rep6 = re.sub('[ኆሖኾ]', 'ሆ', rep5)\n",
    "    rep7 = re.sub('[ሠ]', 'ሰ', rep6)\n",
    "    rep8 = re.sub('[ሡ]', 'ሱ', rep7)\n",
    "    rep9 = re.sub('[ሢ]', 'ሲ', rep8)\n",
    "    rep10 = re.sub('[ሣ]', 'ሳ', rep9)\n",
    "    rep11 = re.sub('[ሤ]', 'ሴ', rep10)\n",
    "    rep12 = re.sub('[ሥ]', 'ስ', rep11)\n",
    "    rep13 = re.sub('[ሦ]', 'ሶ', rep12)\n",
    "    rep14 = re.sub('[ዓኣዐ]', 'አ', rep13)\n",
    "    rep15 = re.sub('[ዑ]', 'ኡ', rep14)\n",
    "    rep16 = re.sub('[ዒ]', 'ኢ', rep15)\n",
    "    rep17 = re.sub('[ዔ]', 'ኤ', rep16)\n",
    "    rep18 = re.sub('[ዕ]', 'እ', rep17)\n",
    "    rep19 = re.sub('[ዖ]', 'ኦ', rep18)\n",
    "    rep20 = re.sub('[ጸ]', 'ፀ', rep19)\n",
    "    rep21 = re.sub('[ጹ]', 'ፁ', rep20)\n",
    "    rep22 = re.sub('[ጺ]', 'ፂ', rep21)\n",
    "    rep23 = re.sub('[ጻ]', 'ፃ', rep22)\n",
    "    rep24 = re.sub('[ጼ]', 'ፄ', rep23)\n",
    "    rep25 = re.sub('[ጽ]', 'ፅ', rep24)\n",
    "    rep26 = re.sub('[ጾ]', 'ፆ', rep25)\n",
    "    # Normalizing words with Labialized Amharic characters such as በልቱዋል or  በልቱአል to  በልቷል\n",
    "    rep27 = re.sub('(ሉ[ዋአ])', 'ሏ', rep26)\n",
    "    rep28 = re.sub('(ሙ[ዋአ])', 'ሟ', rep27)\n",
    "    rep29 = re.sub('(ቱ[ዋአ])', 'ቷ', rep28)\n",
    "    rep30 = re.sub('(ሩ[ዋአ])', 'ሯ', rep29)\n",
    "    rep31 = re.sub('(ሱ[ዋአ])', 'ሷ', rep30)\n",
    "    rep32 = re.sub('(ሹ[ዋአ])', 'ሿ', rep31)\n",
    "    rep33 = re.sub('(ቁ[ዋአ])', 'ቋ', rep32)\n",
    "    rep34 = re.sub('(ቡ[ዋአ])', 'ቧ', rep33)\n",
    "    rep35 = re.sub('(ቹ[ዋአ])', 'ቿ', rep34)\n",
    "    rep36 = re.sub('(ሁ[ዋአ])', 'ኋ', rep35)\n",
    "    rep37 = re.sub('(ኑ[ዋአ])', 'ኗ', rep36)\n",
    "    rep38 = re.sub('(ኙ[ዋአ])', 'ኟ', rep37)\n",
    "    rep39 = re.sub('(ኩ[ዋአ])', 'ኳ', rep38)\n",
    "    rep40 = re.sub('(ዙ[ዋአ])', 'ዟ', rep39)\n",
    "    rep41 = re.sub('(ጉ[ዋአ])', 'ጓ', rep40)\n",
    "    rep42 = re.sub('(ደ[ዋአ])', 'ዷ', rep41)\n",
    "    rep43 = re.sub('(ጡ[ዋአ])', 'ጧ', rep42)\n",
    "    rep44 = re.sub('(ጩ[ዋአ])', 'ጯ', rep43)\n",
    "    rep45 = re.sub('(ጹ[ዋአ])', 'ጿ', rep44)\n",
    "    rep46 = re.sub('(ፉ[ዋአ])', 'ፏ', rep45)\n",
    "    rep47 = re.sub('[ቊ]', 'ቁ', rep46)  # ቁ can be written as ቊ\n",
    "    rep48 = re.sub('[ኵ]', 'ኩ', rep47)  # ኩ can be also written as ኵ\n",
    "    return rep48\n",
    "\n",
    "# Splitting the dataset into train and test\n",
    "dataset = all_dataset['train'].train_test_split(test_size=0.2, seed=42) \n",
    "# Filtering the dataset to remove the rows that have None in the category column\n",
    "dataset = dataset.filter(lambda x: x['category'] is not None)\n",
    "# Normalizing the category column\n",
    "dataset = dataset.map(lambda x: {'category': normalize_char_level_missmatch(x['category'])})\n",
    "dataset"
   ]
  },
  {
   "cell_type": "code",
   "execution_count": 4,
   "metadata": {},
   "outputs": [
    {
     "data": {
      "text/plain": [
       "['ሀገር አቀፍ ዜና', 'መዝናኛ', 'ስፖርት', 'ቢዝነስ', 'አለም አቀፍ ዜና', 'ፖለቲካ']"
      ]
     },
     "execution_count": 4,
     "metadata": {},
     "output_type": "execute_result"
    }
   ],
   "source": [
    "# Getting the unique categories that will be used as labels for the model.\n",
    "categories = list(sorted(set(dataset['train']['category'])))\n",
    "categories"
   ]
  },
  {
   "cell_type": "code",
   "execution_count": 5,
   "metadata": {},
   "outputs": [
    {
     "name": "stdout",
     "output_type": "stream",
     "text": [
      "DatasetDict({\n",
      "    train: Dataset({\n",
      "        features: ['headline', 'category', 'date', 'views', 'article', 'link'],\n",
      "        num_rows: 41185\n",
      "    })\n",
      "    test: Dataset({\n",
      "        features: ['headline', 'category', 'date', 'views', 'article', 'link'],\n",
      "        num_rows: 10297\n",
      "    })\n",
      "})\n",
      "DatasetDict({\n",
      "    train: Dataset({\n",
      "        features: ['headline', 'category', 'date', 'views', 'article', 'link', 'input_ids', 'attention_mask', 'labels'],\n",
      "        num_rows: 41185\n",
      "    })\n",
      "    test: Dataset({\n",
      "        features: ['headline', 'category', 'date', 'views', 'article', 'link', 'input_ids', 'attention_mask', 'labels'],\n",
      "        num_rows: 10297\n",
      "    })\n",
      "})\n"
     ]
    }
   ],
   "source": [
    "from transformers import AutoTokenizer, DataCollatorWithPadding\n",
    "\n",
    "model_checkpoint = \"FacebookAI/xlm-roberta-base\"\n",
    "tokenizer = AutoTokenizer.from_pretrained(model_checkpoint)\n",
    "\n",
    "\n",
    "\n",
    "# Tokenize the dataset\n",
    "def tokenize_function(item):\n",
    "    return tokenizer(item['article'], truncation=True, max_length=512)\n",
    "tokenized_dataset = dataset.map(tokenize_function, batched=True)\n",
    "\n",
    "# Add numerical labels to the tokenized dataset\n",
    "def add_labels(example):\n",
    "    example['labels'] = [categories.index(item) for item in example['category']]\n",
    "    return example\n",
    "tokenized_dataset = tokenized_dataset.map(add_labels, batched= True)\n",
    "\n",
    "\n",
    "\n",
    "print(dataset)\n",
    "print(tokenized_dataset) # Tokenizer added two fields: input_ids and attention_mask\n",
    "\n",
    "\n",
    "# Use a data collator to apply dynamic padding\n",
    "\n",
    "data_collator = DataCollatorWithPadding(\n",
    "    tokenizer=tokenizer, return_tensors='pt')"
   ]
  },
  {
   "cell_type": "code",
   "execution_count": 6,
   "metadata": {},
   "outputs": [],
   "source": [
    "# for item in tokenized_dataset['train']:\n",
    "#     if item['category'] != categories[item['labels']]:\n",
    "#         print('Mismatch:', item['categories'], categories[item['labels']])"
   ]
  },
  {
   "cell_type": "code",
   "execution_count": 7,
   "metadata": {},
   "outputs": [
    {
     "name": "stdout",
     "output_type": "stream",
     "text": [
      "Original Article:\n",
      "በአዲሱ የትምህርት ዘመን በመቶ ሺዎች የሚቆጠሩ የዩኒቨርሲቲ ተማሪዎች ወደ ተመደቡባቸው ተቋማት ለመጓጓዝ ችግር ተፈጠረባቸው፡፡ ወደተለያዩ ሥፍራዎች በዓላትን ለማክበር በሚጓዙ ሰዎች ምክንያት የትራንስፖርት እጥረትና መጉላላት ሊፈጠር እንደሚችል ሥጋት መኖሩ ተገለጸ፡፡አብዛኛዎቹ የከፍተኛ ትምህርት ተቋማት በመቶ ሺዎች የሚቆጠሩ ተማሪዎቻቸውን በተመሳሳይ ጊዜ ለምዝገባ መጥራታቸው፣ ለመስቀል በዓል ከሚጓጓዙና የአረፋን በዓል በየክልሎች አክብረው ከሚመለሱ ዜጎች ጋር ተደምሮ ችግሩ ሊባባስ እንደሚችል፣ የፌዴራል ትራንስፖርት ባለሥልጣን ሥጋቱን ገልጿል፡፡ሪፖርተር ያነጋገራቸው የባለሥልጣኑ አገር አቋራጭ የሕዝብ ትራንስፖርት ስምሪት ክትትል ቡድን መሪ አቶ እንደሻው ጎሹ ግን፣ እስከ መስከረም 14 ቀን 2008 ዓ.ም. ከቀትር በኋላ ድረስ ምንም እጥረት እንዳልተፈጠረ፣ ቀደም ብሎ በነበረው ዝግጅት መሠረት አገልግሎቱ ተቀናጅቶ እየተሰጠ እንደነበር ገልጸዋል፡፡‹‹ነገር ግን በቀጣዮቹ ቀናት ሊፈጠር ከሚችለው እጥረት አኳያ ከፍተኛ ሥጋት አለብን፤›› ብለዋል፡፡ ለዚህ ሥጋት መነሻ ነው ያሉት ከመስከረም 16 ቀን 2008 ዓ.ም. ጀምሮ ባሉት ቀናት ከአሥራ ዘጠኝ በላይ ዩኒቨርሲቲዎች አዲስ ተማሪዎቻቸውን በተቀራራቢ ቀናት በየተቋማቱ እንዲገኙ መጥራታቸው ነው፡፡ በዚህም ምክንያት ከፍተኛ ጫና መፈጠሩ እንደማይቀር አስረድተዋል፡፡ ችግሩ የሚባባስ ከሆነ ለተማሪዎቹ ቅድሚያ በመስጠት በመደበኛ የትራንስፖርት ተጠቃሚዎች ላይ የተወሰነ ጫና ሊፈጠር እንደሚችልም አቶ እንዳሸው ገልጸዋል፡፡ የመስቀል በዓልን ተከትሎም ሆነ ከአረፋ በዓል በኋላ በርካታ ሰዎች ከወትሮው በተለየ ሁኔታ የሚንቀሳቀሱ ቢሆንም፣ በመናኸሪያዎች አካባቢ የተቀላጠፈ አገልግሎት ለመስጠት እየተሞከረ እንደሚገኝ ተናግረዋል፡፡ሌላው ‹‹ትልቁ ሥጋት›› ነው ያሉት ደግሞ የግሸን ማሪያም በዓልን ለማክበር በሚደረግ ጉዞ ሳቢያ የሚኖረውን ጫና ነው፡፡ ይህንን ሲያስረዱም፣ ‹‹የግሸን ማሪያም በዓል ብቻውን ከ500 በላይ ተሽከርካሪዎች ይፈልጋል፡፡ የዚህ ጉዞ ትልቁ ችግር ደግሞ ተሽከርካሪዎች አድርሰው በዚያው ቀን መመለስ አለመቻላቸው ነው፡፡ ከአምስት ቀናት እስከ አንድ ሳምንት የሚቆዩ በመሆኑ ተጨማሪ ጫና ሊፈጥር ይችላል ብዬ እሠጋለሁ፤›› ሲሉ የቡድን መሪው ገልጸዋል፡፡በአገር አቋራጭ ትራንስፖርት አገልግሎት መስክ 870 ደረጃ አንድ እና 400 ደረጃ ሁለት ተሽከርካሪዎች አገልግሎት በመስጠት ላይ ይገኛሉ፡፡አሁን ያለው የትራንስፖርት አቅርቦትና ፍላጎት ያልተጣጣመ በመሆኑ፣ ሌሎች አማራጮችን ለመጠቀም እየተሞከረ መሆኑንም አቶ እንደሻው አስረድተዋል፡፡ አንዳንድ ዩኒቨርሲቲዎች የራሳቸውን አውቶቡሶች በመላክ ተማሪዎቻቸውን ለማጓጓዝ እየሞከሩ እንደሆነ ገልጸው፣ እስከ መስከረም 14 ቀን 2008 ዓ.ም. ድረስ ሰባት ዩኒቨርሲቲዎች ነፃ አገልግሎት እንደሰጡ አስታውሰዋል፡፡የትራንስፖርት እጥረቱ በተደጋጋሚ በመከሰቱ ምክንያት መንግሥትን የሚተቹ አካላት በተለይ ከትራንስፖርት አመራር፣ እንዲሁም መንግሥት በዘርፉ የግል ባለሀብቶችን በበቂ መጠን እንዲገቡ አለማበረታታቱን በመጥቀስ ተጠያቂ ሲያደርጉት ይደመጣል፡፡ በሌላ በኩል በአገልግሎቱ ተሳታፊ የሆኑ ጥቂት የግል አጓጓዦችም በአብዛኛው ከተጓዦች ብዛት ጋር ባለመጣጣማቸው አስቸኳይ አገልግሎት መስጠት አልቻሉም፡፡ ለአብነት ያህል ሰላም ባስና ስካይ ባስ በጉዞ መስመሮቻቸው ተሳፋሪዎችን ለማስተናገድ ከአሥር እስከ 12 ቀናት ወረፋ በማስጠበቅ ላይ እንደሚገኙ ለማወቅ ተችሏል፡፡\n",
      "Tokenized Input IDs:\n",
      "[0, 728, 119847, 153958, 48425, 115172, 6, 39091, 4175, 216226, 623, 240369, 18355, 14623, 130358, 5156, 2981, 67380, 10982, 21789, 117562, 9081, 41390, 213006, 42738, 2981, 92903, 21789, 3237, 5156, 222197, 108107, 110584, 4175, 148227, 36505, 548, 2237, 242491, 18132, 41390, 47797, 21189, 37734, 51324, 88760, 88531, 224896, 946, 2370, 11959, 4712, 36505, 10085, 176839, 194050, 108107, 136351, 2370, 71854, 2981, 41829, 26941, 3237, 6759, 3833, 13075, 9171, 30803, 623, 232246, 48722, 117562, 115172, 6, 39091, 4175, 216226, 6, 146004, 215440, 548, 216224, 7982, 6, 34902, 7872, 21080, 6, 73845, 3851, 29421, 1525, 2237, 171199, 121499, 47467, 41390, 41390, 47797, 946, 11718, 3376, 8036, 548, 121499, 63066, 54991, 49981, 128380, 49363, 1178, 47467, 170110, 103465, 7280, 127838, 816, 8418, 6, 165857, 10085, 147889, 2095, 194050, 1525, 623, 163903, 10822, 88760, 88531, 28322, 136921, 548, 6, 140242, 23087, 6, 30076, 244341, 20784, 196082, 4463, 102309, 5430, 66052, 623, 67737, 136921, 9947, 40692, 215631, 3851, 13799, 184600, 10822, 88760, 88531, 37851, 194133, 6, 110020, 1437, 2202, 66833, 79056, 20339, 5193, 11536, 1178, 40178, 50427, 8083, 1525, 22538, 6, 155823, 616, 17733, 2021, 13277, 5, 816, 5, 1464, 68103, 2010, 22269, 45196, 45048, 224896, 153457, 4413, 92903, 1525, 115139, 27231, 728, 160788, 176960, 98289, 2350, 30076, 4799, 11108, 4585, 64054, 946, 12261, 6724, 20996, 5553, 6839, 145565, 6, 30076, 26941, 47786, 140441, 140441, 194699, 8083, 728, 197172, 23651, 26699, 115151, 10085, 176839, 47467, 190254, 224896, 2350, 53268, 4059, 32436, 108107, 136351, 219305, 3158, 16936, 191007, 117513, 108107, 136351, 167495, 3053, 74211, 1464, 155823, 611, 17733, 2021, 13277, 5, 816, 5, 63078, 15545, 47974, 115151, 37902, 75116, 236120, 23259, 133542, 4175, 21038, 6, 146004, 215440, 548, 15691, 4656, 3851, 3851, 13942, 115151, 728, 181110, 24217, 4236, 4585, 8687, 67956, 6, 73845, 3851, 29421, 8564, 146809, 37734, 32436, 235531, 2370, 205982, 143526, 41730, 12446, 87846, 135722, 6, 165857, 2627, 147889, 2095, 58544, 2237, 146004, 30803, 222285, 217108, 7387, 4555, 121224, 51324, 88760, 88531, 146727, 4175, 2269, 623, 173414, 235531, 10085, 176839, 194050, 816, 20339, 45069, 18309, 1178, 6, 30076, 26941, 47786, 623, 171199, 121499, 548, 163925, 816, 28923, 37902, 3376, 8036, 121499, 22269, 83899, 21189, 148142, 1437, 8418, 1178, 15691, 3008, 5186, 25039, 2627, 548, 4656, 4047, 4656, 14414, 113331, 1525, 7387, 946, 93410, 20906, 4175, 56122, 151011, 4712, 6839, 6980, 61325, 197362, 20996, 13357, 139547, 16678, 59716, 215826, 10824, 147250, 19509, 1437, 2202, 11307, 108107, 136351, 16936, 3053, 74211, 14356, 103026, 164451, 4363, 20906, 816, 121499, 548, 2237, 242491, 18132, 63488, 150124, 32665, 33609, 2627, 114895, 548, 235531, 8564, 47679, 43570, 2095, 168733, 69972, 19509, 5186, 4799, 164451, 4363, 20906, 816, 121499, 15560, 5554, 1464, 4283, 23259, 2981, 9911, 65404, 6393, 116592, 2934, 44228, 4984, 20784, 144382, 150124, 232713, 42738, 14356, 2981, 9911, 65404, 6393, 116592, 74030, 45572, 122296, 1178, 17733, 2370, 72845, 93529, 17231, 25937, 8564, 1464, 99843, 115151, 22538, 9577, 118502, 2627, 220275, 96237, 90893, 235531, 10085, 123810, 2010, 101525, 117833, 4708, 44667, 4984, 47106, 3158, 16936, 87443, 623, 10982, 49101, 79056, 1178, 6, 30076, 26941, 47786, 3639, 6759, 31775, 215631, 3851, 13799, 10822, 88760, 88531, 61325, 31867, 4133, 6, 132067, 32966, 9577, 2]\n",
      "Decoded Article\n",
      "በአዲሱ የትምህርት ዘመን በመቶ ሺዎች የሚቆጠሩ የዩኒቨርሲቲ ተማሪዎች ወደ ተመደቡባቸው ተቋማት ለመጓጓዝ ችግር ተፈጠረባቸው፡፡ ወደተለያዩ ሥፍራዎች በዓላትን ለማክበር በሚጓዙ ሰዎች ምክንያት የትራንስፖርት እጥረትና መጉላላት ሊፈጠር እንደሚችል ሥጋት መኖሩ ተገለጸ፡፡አብዛኛዎቹ የከፍተኛ ትምህርት ተቋማት በመቶ ሺዎች የሚቆጠሩ ተማሪዎቻቸውን በተመሳሳይ ጊዜ ለምዝገባ መጥራታቸው፣ ለመስቀል በዓል ከሚጓጓዙና የአረፋን በዓል በየክልሎች አክብረው ከሚመለሱ ዜጎች ጋር ተደምሮ ችግሩ ሊባባስ እንደሚችል፣ የፌዴራል ትራንስፖርት ባለሥልጣን ሥጋቱን ገልጿል፡፡ሪፖርተር ያነጋገራቸው የባለሥልጣኑ አገር አቋራጭ የሕዝብ ትራንስፖርት ስምሪት ክትትል ቡድን መሪ አቶ እንደሻው ጎሹ ግን፣ እስከ መስከረም 14 ቀን 2008 ዓ.ም. ከቀትር በኋላ ድረስ ምንም እጥረት እንዳልተፈጠረ፣ ቀደም ብሎ በነበረው ዝግጅት መሠረት አገልግሎቱ ተቀናጅቶ እየተሰጠ እንደነበር ገልጸዋል፡፡‹‹ነገር ግን በቀጣዮቹ ቀናት ሊፈጠር ከሚችለው እጥረት አኳያ ከፍተኛ ሥጋት አለብን፤›› ብለዋል፡፡ ለዚህ ሥጋት መነሻ ነው ያሉት ከመስከረም 16 ቀን 2008 ዓ.ም. ጀምሮ ባሉት ቀናት ከአሥራ ዘጠኝ በላይ ዩኒቨርሲቲዎች አዲስ ተማሪዎቻቸውን በተቀራራቢ ቀናት በየተቋማቱ እንዲገኙ መጥራታቸው ነው፡፡ በዚህም ምክንያት ከፍተኛ ጫና መፈጠሩ እንደማይቀር አስረድተዋል፡፡ ችግሩ የሚባባስ ከሆነ ለተማሪዎቹ ቅድሚያ በመስጠት በመደበኛ የትራንስፖርት ተጠቃሚዎች ላይ የተወሰነ ጫና ሊፈጠር እንደሚችልም አቶ እንዳሸው ገልጸዋል፡፡ የመስቀል በዓልን ተከትሎም ሆነ ከአረፋ በዓል በኋላ በርካታ ሰዎች ከወትሮው በተለየ ሁኔታ የሚንቀሳቀሱ ቢሆንም፣ በመናኸሪያዎች አካባቢ የተቀላጠፈ አገልግሎት ለመስጠት እየተሞከረ እንደሚገኝ ተናግረዋል፡፡ሌላው ‹‹ትልቁ ሥጋት›› ነው ያሉት ደግሞ የግሸን ማሪያም በዓልን ለማክበር በሚደረግ ጉዞ ሳቢያ የሚኖረውን ጫና ነው፡፡ ይህንን ሲያስረዱም፣ ‹‹የግሸን ማሪያም በዓል ብቻውን ከ500 በላይ ተሽከርካሪዎች ይፈልጋል፡፡ የዚህ ጉዞ ትልቁ ችግር ደግሞ ተሽከርካሪዎች አድርሰው በዚያው ቀን መመለስ አለመቻላቸው ነው፡፡ ከአምስት ቀናት እስከ አንድ ሳምንት የሚቆዩ በመሆኑ ተጨማሪ ጫና ሊፈጥር ይችላል ብዬ እሠጋለሁ፤›› ሲሉ የቡድን መሪው ገልጸዋል፡፡በአገር አቋራጭ ትራንስፖርት አገልግሎት መስክ 870 ደረጃ አንድ\n",
      "Length of Orginal Article:  1925\n",
      "Length of Decoded Article:  1307\n",
      "Length of Input Ids:  512\n"
     ]
    }
   ],
   "source": [
    "\n",
    "for y in tokenized_dataset['train']:\n",
    "    original_article = y['article']\n",
    "    tokenized_input_ids = y['input_ids']\n",
    "    \n",
    "    decoded_article = tokenizer.decode(\n",
    "        tokenized_input_ids, skip_special_tokens=True)\n",
    "\n",
    "    print(\"Original Article:\")\n",
    "    print(original_article)\n",
    "    print(\"Tokenized Input IDs:\")\n",
    "    print(tokenized_input_ids)\n",
    "    print(\"Decoded Article\")\n",
    "    print(decoded_article)\n",
    "    print(\"Length of Orginal Article: \", len(original_article))\n",
    "    print(\"Length of Decoded Article: \", len(decoded_article))\n",
    "    print(\"Length of Input Ids: \", len(tokenized_input_ids))\n",
    "    break"
   ]
  },
  {
   "cell_type": "code",
   "execution_count": 8,
   "metadata": {},
   "outputs": [
    {
     "name": "stderr",
     "output_type": "stream",
     "text": [
      "Some weights of XLMRobertaForSequenceClassification were not initialized from the model checkpoint at FacebookAI/xlm-roberta-base and are newly initialized: ['classifier.dense.bias', 'classifier.dense.weight', 'classifier.out_proj.bias', 'classifier.out_proj.weight']\n",
      "You should probably TRAIN this model on a down-stream task to be able to use it for predictions and inference.\n"
     ]
    },
    {
     "name": "stdout",
     "output_type": "stream",
     "text": [
      "Model loaded on: cuda\n"
     ]
    },
    {
     "name": "stderr",
     "output_type": "stream",
     "text": [
      "c:\\Users\\fikre\\AppData\\Local\\Programs\\Python\\Python311\\Lib\\site-packages\\transformers\\training_args.py:1568: FutureWarning: `evaluation_strategy` is deprecated and will be removed in version 4.46 of 🤗 Transformers. Use `eval_strategy` instead\n",
      "  warnings.warn(\n"
     ]
    }
   ],
   "source": [
    "# Load the model\n",
    "\n",
    "import torch\n",
    "from transformers import AutoModelForSequenceClassification, TrainingArguments\n",
    "\n",
    "# We are using the XLM ROberat. We are configuring it for text classification task\n",
    "\n",
    "fine_tuned_model = AutoModelForSequenceClassification.from_pretrained(\n",
    "    model_checkpoint,\n",
    "    num_labels=len(categories),\n",
    "    id2label={i: lbl for i, lbl in enumerate(categories)},\n",
    "    label2id={lbl: i for i, lbl in enumerate(categories)},\n",
    "    device_map=\"cuda\"\n",
    ")\n",
    "\n",
    "# Move the model to GPU if available\n",
    "device = torch.device(\"cuda\" if torch.cuda.is_available() else \"cpu\")\n",
    "fine_tuned_model.to(device)\n",
    "\n",
    "# Print the device to confirm\n",
    "print(f\"Model loaded on: {device}\")\n",
    "\n",
    "# Seting up the fine tunning parameter\n",
    "batch_size = 16\n",
    "gradient_accumulation_steps = 4\n",
    "epochs = 5\n",
    "\n",
    "training_args = TrainingArguments(\n",
    "    output_dir=model_checkpoint+\"-finetuned\",\n",
    "    learning_rate=5e-5,\n",
    "    per_device_train_batch_size=batch_size,\n",
    "    per_device_eval_batch_size=batch_size,\n",
    "    gradient_accumulation_steps=gradient_accumulation_steps,\n",
    "    num_train_epochs=epochs,\n",
    "    weight_decay=0.1,\n",
    "    evaluation_strategy=\"epoch\",\n",
    "    save_strategy=\"epoch\",\n",
    "    logging_strategy=\"epoch\",\n",
    "    load_best_model_at_end=True,\n",
    "    metric_for_best_model=\"f1\",\n",
    "    fp16=True,\n",
    "    seed=42,\n",
    ")"
   ]
  },
  {
   "cell_type": "code",
   "execution_count": 9,
   "metadata": {},
   "outputs": [
    {
     "data": {
      "text/plain": [
       "{'accuracy': 1.0, 'precision': 1.0, 'recall': 1.0, 'f1': 1.0}"
      ]
     },
     "execution_count": 9,
     "metadata": {},
     "output_type": "execute_result"
    }
   ],
   "source": [
    "import evaluate\n",
    "import numpy as np\n",
    "\n",
    "# Defining our compute metrics\n",
    "\n",
    "def compute_metrics(eval_preds):\n",
    "  metric1 = evaluate.load(\"accuracy\")\n",
    "  metric2 = evaluate.load(\"precision\")\n",
    "  metric3 = evaluate.load(\"recall\")\n",
    "  metric4 = evaluate.load(\"f1\")\n",
    "\n",
    "  logits, labels = eval_preds\n",
    "  predictions = np.argmax(logits, axis=-1)\n",
    "\n",
    "  accuracy = metric1.compute(\n",
    "      predictions=predictions, references=labels)[\"accuracy\"]\n",
    "  precision = metric2.compute(\n",
    "      predictions=predictions, references=labels, average='macro')[\"precision\"]\n",
    "  recall = metric3.compute(predictions=predictions,\n",
    "                           references=labels, average='macro')[\"recall\"]\n",
    "  f1 = metric4.compute(predictions=predictions,\n",
    "                       references=labels, average='macro')[\"f1\"]\n",
    "\n",
    "  return {\n",
    "      \"accuracy\": accuracy,\n",
    "      \"precision\": precision,\n",
    "      \"recall\": recall,\n",
    "      \"f1\": f1\n",
    "  }\n",
    "\n",
    "compute_metrics(([[1, 0], [0,1]], [0,1]))"
   ]
  },
  {
   "cell_type": "code",
   "execution_count": 12,
   "metadata": {},
   "outputs": [
    {
     "name": "stderr",
     "output_type": "stream",
     "text": [
      "C:\\Users\\fikre\\AppData\\Local\\Temp\\ipykernel_19776\\3001767661.py:3: FutureWarning: `tokenizer` is deprecated and will be removed in version 5.0.0 for `Trainer.__init__`. Use `processing_class` instead.\n",
      "  trainer = Trainer(\n",
      "c:\\Users\\fikre\\AppData\\Local\\Programs\\Python\\Python311\\Lib\\site-packages\\transformers\\trainer.py:3354: FutureWarning: You are using `torch.load` with `weights_only=False` (the current default value), which uses the default pickle module implicitly. It is possible to construct malicious pickle data which will execute arbitrary code during unpickling (See https://github.com/pytorch/pytorch/blob/main/SECURITY.md#untrusted-models for more details). In a future release, the default value for `weights_only` will be flipped to `True`. This limits the functions that could be executed during unpickling. Arbitrary objects will no longer be allowed to be loaded via this mode unless they are explicitly allowlisted by the user via `torch.serialization.add_safe_globals`. We recommend you start setting `weights_only=True` for any use case where you don't have full control of the loaded file. Please open an issue on GitHub for any issues related to this experimental feature.\n",
      "  torch.load(os.path.join(checkpoint, OPTIMIZER_NAME), map_location=map_location)\n",
      "  0%|          | 0/3215 [00:00<?, ?it/s]c:\\Users\\fikre\\AppData\\Local\\Programs\\Python\\Python311\\Lib\\site-packages\\transformers\\trainer.py:3033: FutureWarning: You are using `torch.load` with `weights_only=False` (the current default value), which uses the default pickle module implicitly. It is possible to construct malicious pickle data which will execute arbitrary code during unpickling (See https://github.com/pytorch/pytorch/blob/main/SECURITY.md#untrusted-models for more details). In a future release, the default value for `weights_only` will be flipped to `True`. This limits the functions that could be executed during unpickling. Arbitrary objects will no longer be allowed to be loaded via this mode unless they are explicitly allowlisted by the user via `torch.serialization.add_safe_globals`. We recommend you start setting `weights_only=True` for any use case where you don't have full control of the loaded file. Please open an issue on GitHub for any issues related to this experimental feature.\n",
      "  checkpoint_rng_state = torch.load(rng_file)\n",
      " 80%|████████  | 2572/3215 [36:47<35:43,  3.33s/it]  "
     ]
    },
    {
     "name": "stdout",
     "output_type": "stream",
     "text": [
      "{'loss': 0.2085, 'grad_norm': 26.816082000732422, 'learning_rate': 1.0186625194401244e-05, 'epoch': 4.0}\n"
     ]
    },
    {
     "name": "stderr",
     "output_type": "stream",
     "text": [
      "                                                   \n",
      " 80%|████████  | 2572/3215 [38:10<35:43,  3.33s/it]"
     ]
    },
    {
     "name": "stdout",
     "output_type": "stream",
     "text": [
      "{'eval_loss': 0.3304812014102936, 'eval_accuracy': 0.8866660192289016, 'eval_precision': 0.8669120499120396, 'eval_recall': 0.8404847295200484, 'eval_f1': 0.8528491180034422, 'eval_runtime': 83.3282, 'eval_samples_per_second': 123.572, 'eval_steps_per_second': 7.728, 'epoch': 4.0}\n"
     ]
    },
    {
     "name": "stderr",
     "output_type": "stream",
     "text": [
      "100%|██████████| 3215/3215 [1:14:12<00:00,  3.36s/it]"
     ]
    },
    {
     "name": "stdout",
     "output_type": "stream",
     "text": [
      "{'loss': 0.157, 'grad_norm': 17.003381729125977, 'learning_rate': 1.8662519440124417e-07, 'epoch': 5.0}\n"
     ]
    },
    {
     "name": "stderr",
     "output_type": "stream",
     "text": [
      "Using the latest cached version of the module from C:\\Users\\fikre\\.cache\\huggingface\\modules\\evaluate_modules\\metrics\\evaluate-metric--accuracy\\f887c0aab52c2d38e1f8a215681126379eca617f96c447638f751434e8e65b14 (last modified on Fri Jan 17 14:38:44 2025) since it couldn't be found locally at evaluate-metric--accuracy, or remotely on the Hugging Face Hub.\n",
      "Using the latest cached version of the module from C:\\Users\\fikre\\.cache\\huggingface\\modules\\evaluate_modules\\metrics\\evaluate-metric--precision\\155d3220d6cd4a6553f12da68eeb3d1f97cf431206304a4bc6e2d564c29502e9 (last modified on Fri Jan 17 14:38:46 2025) since it couldn't be found locally at evaluate-metric--precision, or remotely on the Hugging Face Hub.\n",
      "Using the latest cached version of the module from C:\\Users\\fikre\\.cache\\huggingface\\modules\\evaluate_modules\\metrics\\evaluate-metric--recall\\11f90e583db35601050aed380d48e83202a896976b9608432fba9244fb447f24 (last modified on Fri Jan 17 14:38:48 2025) since it couldn't be found locally at evaluate-metric--recall, or remotely on the Hugging Face Hub.\n",
      "Using the latest cached version of the module from C:\\Users\\fikre\\.cache\\huggingface\\modules\\evaluate_modules\\metrics\\evaluate-metric--f1\\34c46321f42186df33a6260966e34a368f14868d9cc2ba47d142112e2800d233 (last modified on Fri Jan 17 14:38:50 2025) since it couldn't be found locally at evaluate-metric--f1, or remotely on the Hugging Face Hub.\n",
      "                                                     \n",
      "100%|██████████| 3215/3215 [1:15:32<00:00,  3.36s/it]"
     ]
    },
    {
     "name": "stdout",
     "output_type": "stream",
     "text": [
      "{'eval_loss': 0.33792978525161743, 'eval_accuracy': 0.8919102651257648, 'eval_precision': 0.8667374707045448, 'eval_recall': 0.855662905348919, 'eval_f1': 0.8600085298380371, 'eval_runtime': 79.9576, 'eval_samples_per_second': 128.781, 'eval_steps_per_second': 8.054, 'epoch': 5.0}\n"
     ]
    },
    {
     "name": "stderr",
     "output_type": "stream",
     "text": [
      "100%|██████████| 3215/3215 [1:15:39<00:00,  1.41s/it]"
     ]
    },
    {
     "name": "stdout",
     "output_type": "stream",
     "text": [
      "{'train_runtime': 4539.3781, 'train_samples_per_second': 45.364, 'train_steps_per_second': 0.708, 'train_loss': 0.07309300969955895, 'epoch': 5.0}\n"
     ]
    },
    {
     "name": "stderr",
     "output_type": "stream",
     "text": [
      "\n"
     ]
    },
    {
     "data": {
      "text/plain": [
       "TrainOutput(global_step=3215, training_loss=0.07309300969955895, metrics={'train_runtime': 4539.3781, 'train_samples_per_second': 45.364, 'train_steps_per_second': 0.708, 'total_flos': 5.415114548373984e+16, 'train_loss': 0.07309300969955895, 'epoch': 4.9984466019417475})"
      ]
     },
     "execution_count": 12,
     "metadata": {},
     "output_type": "execute_result"
    }
   ],
   "source": [
    "from transformers import Trainer\n",
    "\n",
    "trainer = Trainer(\n",
    "    model=fine_tuned_model,\n",
    "    args=training_args,\n",
    "    train_dataset=tokenized_dataset[\"train\"],\n",
    "    eval_dataset=tokenized_dataset[\"test\"],\n",
    "    tokenizer=tokenizer,\n",
    "    data_collator=data_collator,\n",
    "    compute_metrics=compute_metrics,\n",
    ")\n",
    "trainer.train(resume_from_checkpoint=True)"
   ]
  },
  {
   "cell_type": "code",
   "execution_count": 4,
   "metadata": {},
   "outputs": [
    {
     "data": {
      "text/plain": [
       "XLMRobertaForSequenceClassification(\n",
       "  (roberta): XLMRobertaModel(\n",
       "    (embeddings): XLMRobertaEmbeddings(\n",
       "      (word_embeddings): Embedding(250002, 768, padding_idx=1)\n",
       "      (position_embeddings): Embedding(514, 768, padding_idx=1)\n",
       "      (token_type_embeddings): Embedding(1, 768)\n",
       "      (LayerNorm): LayerNorm((768,), eps=1e-05, elementwise_affine=True)\n",
       "      (dropout): Dropout(p=0.1, inplace=False)\n",
       "    )\n",
       "    (encoder): XLMRobertaEncoder(\n",
       "      (layer): ModuleList(\n",
       "        (0-11): 12 x XLMRobertaLayer(\n",
       "          (attention): XLMRobertaAttention(\n",
       "            (self): XLMRobertaSdpaSelfAttention(\n",
       "              (query): Linear(in_features=768, out_features=768, bias=True)\n",
       "              (key): Linear(in_features=768, out_features=768, bias=True)\n",
       "              (value): Linear(in_features=768, out_features=768, bias=True)\n",
       "              (dropout): Dropout(p=0.1, inplace=False)\n",
       "            )\n",
       "            (output): XLMRobertaSelfOutput(\n",
       "              (dense): Linear(in_features=768, out_features=768, bias=True)\n",
       "              (LayerNorm): LayerNorm((768,), eps=1e-05, elementwise_affine=True)\n",
       "              (dropout): Dropout(p=0.1, inplace=False)\n",
       "            )\n",
       "          )\n",
       "          (intermediate): XLMRobertaIntermediate(\n",
       "            (dense): Linear(in_features=768, out_features=3072, bias=True)\n",
       "            (intermediate_act_fn): GELUActivation()\n",
       "          )\n",
       "          (output): XLMRobertaOutput(\n",
       "            (dense): Linear(in_features=3072, out_features=768, bias=True)\n",
       "            (LayerNorm): LayerNorm((768,), eps=1e-05, elementwise_affine=True)\n",
       "            (dropout): Dropout(p=0.1, inplace=False)\n",
       "          )\n",
       "        )\n",
       "      )\n",
       "    )\n",
       "  )\n",
       "  (classifier): XLMRobertaClassificationHead(\n",
       "    (dense): Linear(in_features=768, out_features=768, bias=True)\n",
       "    (dropout): Dropout(p=0.1, inplace=False)\n",
       "    (out_proj): Linear(in_features=768, out_features=6, bias=True)\n",
       "  )\n",
       ")"
      ]
     },
     "execution_count": 4,
     "metadata": {},
     "output_type": "execute_result"
    }
   ],
   "source": [
    "from transformers import AutoModelForSequenceClassification, AutoTokenizer\n",
    "import torch\n",
    "\n",
    "fine_tuned_checkpoint = \"FacebookAI/xlm-roberta-base-finetuned/checkpoint-3215\"\n",
    "tokenizer = AutoTokenizer.from_pretrained(fine_tuned_checkpoint)\n",
    "fine_tuned_model = AutoModelForSequenceClassification.from_pretrained(\n",
    "    fine_tuned_checkpoint)\n",
    "\n",
    "device = torch.device(\"cuda\" if torch.cuda.is_available() else \"cpu\")\n",
    "fine_tuned_model.to(device)"
   ]
  },
  {
   "cell_type": "code",
   "execution_count": 2,
   "metadata": {},
   "outputs": [
    {
     "name": "stdout",
     "output_type": "stream",
     "text": [
      "Input Paragraph: \n",
      "የማንቸስተር ዩናይትዱ አሰልጣኝ ሩበን አሞሪም ቡድናቸው በክለቡ 147 ዓመታት ታሪክ \"በጣም ደካማው\" ሳይሆን እንደማይቀር ገለጸ።\n",
      "\n",
      "ቡድኑ በብራይተን 3 ለ 1 የተሸነፈበት ጨዋታ በሜዳው ካደረጋቸው ያለፉት አምስት የፕሪሚር ሊግ መርሐ ግብሮች በአራቱ የተሸነፈበት ሆኗል።\n",
      "\n",
      "አሞሪም ኤሪክ ቴን ሃግን ተከቶ ቡድኑን ከተረከበ በኋላ ፖርቹጋላዊው ካለፉት 11 ጨዋታዎች 11 ነጥብ ብቻ ሰብስቧል።\n",
      "\n",
      "ዩናይትድ ከመውረድ ቀጠና በ10 ነጥብ ርቆ 13ኛ ደረጃ ላይ ተቀምጧል።\n",
      "\n",
      "\"ካለፉት 10 የሊጉ ጨዋታዎች ሁለቱን ነው ያሸነፍነው። ይህ ለደጋፊዎቹም ሆነ ለእኔ ምን ማለት እንደሆነ አስቡት\" ብሏል።\n",
      "\n",
      "\"አዲሱ አሰልጣኝ ካለፈው አሰልጣኝ በበለጠ እየተሸነፈ ነው። ይህንን አውቃለሁ።\"\n",
      "\n",
      "\"በማንቸስተር ዩናይትድ ታሪክ ደካማው ቡድን ሳንሆን አንቀርም። እናንተ [መገናኛ ብዙሃን] ርዕስ እንደምትፈልጉ ባውቅም እውነቱን ተናግሬ መቀየር ይኖርብኛል። ይኸው ርዕስ ሰጠዋችሁ\" ሲል ተናግሯል።\n",
      "\n",
      "በብራይተን ጎል ካስተናገደ በኋላ ዩናይትድ አቻ ለመሆን በቅቶ ነበር።\n",
      "\n",
      "የብሩኖ ፈርናንዴስ ፍጹም ቅጣት ምት ቡድኑን ያነቃቃዋል ቢባልም ይበልጥ ተበልጦ ታይቷል።\n",
      "\n",
      "ካኦሩ ሚቶማ ቡድኑን ቀዳሚ ሲያደርግ ግብ ጠባቂው አንድሬ ኦናና የፈጸመውን ስህተት ተጠቅሞ ጂዮርጂኖ ረተር ለቡድኑ ሦስተኛዋን ጎል ከመረብ አሳርፏል።\n",
      "\n",
      "Predicted Label: ስፖርት\n"
     ]
    }
   ],
   "source": [
    "input_paragraph = \"\"\"\n",
    "የማንቸስተር ዩናይትዱ አሰልጣኝ ሩበን አሞሪም ቡድናቸው በክለቡ 147 ዓመታት ታሪክ \"በጣም ደካማው\" ሳይሆን እንደማይቀር ገለጸ።\n",
    "\n",
    "ቡድኑ በብራይተን 3 ለ 1 የተሸነፈበት ጨዋታ በሜዳው ካደረጋቸው ያለፉት አምስት የፕሪሚር ሊግ መርሐ ግብሮች በአራቱ የተሸነፈበት ሆኗል።\n",
    "\n",
    "አሞሪም ኤሪክ ቴን ሃግን ተከቶ ቡድኑን ከተረከበ በኋላ ፖርቹጋላዊው ካለፉት 11 ጨዋታዎች 11 ነጥብ ብቻ ሰብስቧል።\n",
    "\n",
    "ዩናይትድ ከመውረድ ቀጠና በ10 ነጥብ ርቆ 13ኛ ደረጃ ላይ ተቀምጧል።\n",
    "\n",
    "\"ካለፉት 10 የሊጉ ጨዋታዎች ሁለቱን ነው ያሸነፍነው። ይህ ለደጋፊዎቹም ሆነ ለእኔ ምን ማለት እንደሆነ አስቡት\" ብሏል።\n",
    "\n",
    "\"አዲሱ አሰልጣኝ ካለፈው አሰልጣኝ በበለጠ እየተሸነፈ ነው። ይህንን አውቃለሁ።\"\n",
    "\n",
    "\"በማንቸስተር ዩናይትድ ታሪክ ደካማው ቡድን ሳንሆን አንቀርም። እናንተ [መገናኛ ብዙሃን] ርዕስ እንደምትፈልጉ ባውቅም እውነቱን ተናግሬ መቀየር ይኖርብኛል። ይኸው ርዕስ ሰጠዋችሁ\" ሲል ተናግሯል።\n",
    "\n",
    "በብራይተን ጎል ካስተናገደ በኋላ ዩናይትድ አቻ ለመሆን በቅቶ ነበር።\n",
    "\n",
    "የብሩኖ ፈርናንዴስ ፍጹም ቅጣት ምት ቡድኑን ያነቃቃዋል ቢባልም ይበልጥ ተበልጦ ታይቷል።\n",
    "\n",
    "ካኦሩ ሚቶማ ቡድኑን ቀዳሚ ሲያደርግ ግብ ጠባቂው አንድሬ ኦናና የፈጸመውን ስህተት ተጠቅሞ ጂዮርጂኖ ረተር ለቡድኑ ሦስተኛዋን ጎል ከመረብ አሳርፏል።\n",
    "\"\"\"\n",
    "# Tokenize the input paragraph\n",
    "inputs = tokenizer(input_paragraph, padding=True,\n",
    "                   truncation=True, return_tensors=\"pt\", max_length=512)\n",
    "\n",
    "inputs = {key: value.to(device) for key, value in inputs.items()}\n",
    "\n",
    "# Make predictions\n",
    "fine_tuned_model.eval()\n",
    "with torch.no_grad():\n",
    "    outputs = fine_tuned_model(**inputs)\n",
    "\n",
    "logits = outputs.logits\n",
    "predictions = torch.argmax(logits, dim=-1)\n",
    "\n",
    "# Map predictions to labels\n",
    "id2label = fine_tuned_model.config.id2label\n",
    "predicted_label = id2label[predictions.item()]\n",
    "\n",
    "# Print the prediction\n",
    "print(f\"Input Paragraph: {input_paragraph}\")\n",
    "print(f\"Predicted Label: {predicted_label}\")"
   ]
  }
 ],
 "metadata": {
  "kernelspec": {
   "display_name": "Python 3",
   "language": "python",
   "name": "python3"
  },
  "language_info": {
   "codemirror_mode": {
    "name": "ipython",
    "version": 3
   },
   "file_extension": ".py",
   "mimetype": "text/x-python",
   "name": "python",
   "nbconvert_exporter": "python",
   "pygments_lexer": "ipython3",
   "version": "3.11.4"
  }
 },
 "nbformat": 4,
 "nbformat_minor": 2
}
